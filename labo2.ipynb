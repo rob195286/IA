{
  "nbformat": 4,
  "nbformat_minor": 0,
  "metadata": {
    "colab": {
      "name": "labo2.ipynb",
      "provenance": [],
      "collapsed_sections": [],
      "toc_visible": true,
      "authorship_tag": "ABX9TyOoT4pLZ0EPzvVJ85P7OcOM",
      "include_colab_link": true
    },
    "kernelspec": {
      "display_name": "Python 3",
      "name": "python3"
    },
    "language_info": {
      "name": "python"
    }
  },
  "cells": [
    {
      "cell_type": "markdown",
      "metadata": {
        "id": "view-in-github",
        "colab_type": "text"
      },
      "source": [
        "<a href=\"https://colab.research.google.com/github/rob195286/IA/blob/main/labo2.ipynb\" target=\"_parent\"><img src=\"https://colab.research.google.com/assets/colab-badge.svg\" alt=\"Open In Colab\"/></a>"
      ]
    },
    {
      "cell_type": "code",
      "metadata": {
        "colab": {
          "base_uri": "https://localhost:8080/",
          "height": 265
        },
        "id": "Ry9RAm6Gd5B-",
        "outputId": "61a64728-45d9-48d9-b001-843cf37880cc"
      },
      "source": [
        "#1-2\n",
        "import gzip\n",
        "import matplotlib.pyplot as plt\n",
        "import numpy as np\n",
        "\n",
        "f = gzip.open('train-images-idx3-ubyte.gz','r')\n",
        "\n",
        "images_size = 28\n",
        "images_number = 60000\n",
        "# retire les 16 premier octets du buffer car on veut juste les images.\n",
        "f.read(16)\n",
        "buf = f.read()\n",
        "# frombuffer -> prend un buffer le transforme en array 1D et indique le type de données. || astype -> copie un array et le cast dans le type voulu. \n",
        "array = np.frombuffer(buf, dtype=np.uint8).astype(np.float32)\n",
        "# transforme l'array 1D en un array ayant comme nouvelle dimensions celle sindiqué (arg 1 -> nbr ligne, arg n -> nbr colonne).\n",
        "images_array = array.reshape(images_number, images_size, images_size)\n",
        "# asarray -> convertis l'entré en array. || squeeze -> enlève les parenthèses inutile en ramenant un array de n-D avec une valeur encapsulé plusieurs en 1-D.\n",
        "image1 = images_array[0]\n",
        "plt.imshow(image1)\n",
        "plt.show()"
      ],
      "execution_count": 19,
      "outputs": [
        {
          "output_type": "display_data",
          "data": {
            "image/png": "[encoded data removed]",
            "text/plain": [
              "<Figure size 432x288 with 1 Axes>"
            ]
          },
          "metadata": {
            "tags": [],
            "needs_background": "light"
          }
        }
      ]
    },
    {
      "cell_type": "code",
      "metadata": {
        "colab": {
          "base_uri": "https://localhost:8080/"
        },
        "id": "bMxwmo_x2Hnh",
        "outputId": "5b61b982-c1ef-48f7-9359-ffca118dd2d2"
      },
      "source": [
        "#3\n",
        "import pandas as pd\n",
        "\n",
        "f = gzip.open('train-labels-idx1-ubyte.gz','r')\n",
        "\n",
        "f.read(8)\n",
        "buf = f.read(images_number)\n",
        "target_array = np.frombuffer(buf, dtype=np.uint8).astype(np.int8)\n",
        "serie_number = pd.DataFrame({'classes':target_array})\n",
        "classes_list = [len(serie_number.loc[lambda x: x['classes'] == classes, :]) for classes in range(10)]\n",
        "\n",
        "for index, element in enumerate(classes_list, 0):\n",
        "  print('classe {} : {}'.format(index, element))\n",
        "print('sum : ', sum(classes_list))"
      ],
      "execution_count": 20,
      "outputs": [
        {
          "output_type": "stream",
          "text": [
            "classe 0 : 5923\n",
            "classe 1 : 6742\n",
            "classe 2 : 5958\n",
            "classe 3 : 6131\n",
            "classe 4 : 5842\n",
            "classe 5 : 5421\n",
            "classe 6 : 5918\n",
            "classe 7 : 6265\n",
            "classe 8 : 5851\n",
            "classe 9 : 5949\n",
            "sum :  60000\n"
          ],
          "name": "stdout"
        }
      ]
    },
    {
      "cell_type": "code",
      "metadata": {
        "id": "8LPVgDXeGMz5"
      },
      "source": [
        "#4\n",
        "from sklearn import model_selection, svm\n",
        "\n",
        "train_data, test_data = model_selection.train_test_split(images_array, test_size = 0.1, train_size = 0.9, shuffle=False)"
      ],
      "execution_count": 21,
      "outputs": []
    },
    {
      "cell_type": "code",
      "metadata": {
        "id": "6GR1K8goT5X9"
      },
      "source": [
        "#5\n",
        "# choix de classification supervisé. supervisé -> car l'apprentissage se fait avec les résultats || classification -> car on a des résultat discret.\n",
        "\n",
        "classifier = svm.SVC()\n",
        "#classifier.fit(train_data, train_data)\n",
        "#classifier.predict(X)"
      ],
      "execution_count": 22,
      "outputs": []
    },
    {
      "cell_type": "code",
      "metadata": {
        "colab": {
          "base_uri": "https://localhost:8080/"
        },
        "id": "HVFYLGScJiHk",
        "outputId": "a1ef9471-7cd9-41a9-cc73-176178d4be45"
      },
      "source": [
        "from sklearn.neural_network import MLPClassifier\n",
        "\n",
        "\n",
        "clf = MLPClassifier(solver='lbfgs', hidden_layer_sizes=(24, 26, 24), max_iter=100, random_state=1)\n",
        "#clf.fit(train_data, target_array[:int(60000*0.9)])    \n",
        "\n",
        "train_data = train_data.reshape(len(train_data), images_size**2)\n",
        "clf.fit(train_data, target_array[:int(60000*0.9)]) \n"
      ],
      "execution_count": 89,
      "outputs": [
        {
          "output_type": "stream",
          "text": [
            "/usr/local/lib/python3.7/dist-packages/sklearn/neural_network/_multilayer_perceptron.py:470: ConvergenceWarning: lbfgs failed to converge (status=1):\n",
            "STOP: TOTAL NO. of ITERATIONS REACHED LIMIT.\n",
            "\n",
            "Increase the number of iterations (max_iter) or scale the data as shown in:\n",
            "    https://scikit-learn.org/stable/modules/preprocessing.html\n",
            "  self.n_iter_ = _check_optimize_result(\"lbfgs\", opt_res, self.max_iter)\n"
          ],
          "name": "stderr"
        },
        {
          "output_type": "execute_result",
          "data": {
            "text/plain": [
              "MLPClassifier(activation='relu', alpha=0.0001, batch_size='auto', beta_1=0.9,\n",
              "              beta_2=0.999, early_stopping=False, epsilon=1e-08,\n",
              "              hidden_layer_sizes=(24, 26, 24), learning_rate='constant',\n",
              "              learning_rate_init=0.001, max_fun=15000, max_iter=100,\n",
              "              momentum=0.9, n_iter_no_change=10, nesterovs_momentum=True,\n",
              "              power_t=0.5, random_state=1, shuffle=True, solver='lbfgs',\n",
              "              tol=0.0001, validation_fraction=0.1, verbose=False,\n",
              "              warm_start=False)"
            ]
          },
          "metadata": {
            "tags": []
          },
          "execution_count": 89
        }
      ]
    },
    {
      "cell_type": "code",
      "metadata": {
        "colab": {
          "base_uri": "https://localhost:8080/",
          "height": 282
        },
        "id": "CT2J0Hl7L94k",
        "outputId": "54c1d752-117e-4686-c74c-0271beaec8c7"
      },
      "source": [
        "test=7\n",
        "test_data = test_data.reshape(len(test_data), images_size**2)\n",
        "#clf.predict_proba(np.asarray([test_data[3]]))\n",
        "print(clf.predict(np.asarray([test_data[test]])))\n",
        "plt.imshow(test_data[test].reshape(images_size, images_size))\n",
        "plt.show()"
      ],
      "execution_count": 100,
      "outputs": [
        {
          "output_type": "stream",
          "text": [
            "[4]\n"
          ],
          "name": "stdout"
        },
        {
          "output_type": "display_data",
          "data": {
            "image/png": "[encoded data removed]",
            "text/plain": [
              "<Figure size 432x288 with 1 Axes>"
            ]
          },
          "metadata": {
            "tags": [],
            "needs_background": "light"
          }
        }
      ]
    },
    {
      "cell_type": "code",
      "metadata": {
        "id": "Sx2-thmuNtP8"
      },
      "source": [
        ""
      ],
      "execution_count": null,
      "outputs": []
    }
  ]
}