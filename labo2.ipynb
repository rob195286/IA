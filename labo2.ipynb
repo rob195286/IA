{
  "nbformat": 4,
  "nbformat_minor": 0,
  "metadata": {
    "colab": {
      "name": "labo2.ipynb",
      "provenance": [],
      "collapsed_sections": [],
      "authorship_tag": "ABX9TyOFeRcT7r6pvN4ohFlV1cQ2",
      "include_colab_link": true
    },
    "kernelspec": {
      "name": "python3",
      "display_name": "Python 3"
    },
    "language_info": {
      "name": "python"
    }
  },
  "cells": [
    {
      "cell_type": "markdown",
      "metadata": {
        "id": "view-in-github",
        "colab_type": "text"
      },
      "source": [
        "<a href=\"https://colab.research.google.com/github/rob195286/IA/blob/main/labo2.ipynb\" target=\"_parent\"><img src=\"https://colab.research.google.com/assets/colab-badge.svg\" alt=\"Open In Colab\"/></a>"
      ]
    },
    {
      "cell_type": "code",
      "metadata": {
        "colab": {
          "base_uri": "https://localhost:8080/"
        },
        "id": "8n9vxKWEFpR7",
        "outputId": "652d11c9-b21a-4ed4-e898-d09e3b99c5bd"
      },
      "source": [
        "import numpy as np\n",
        "\n",
        "a = np.arange(360)\n",
        "x = a.reshape(6,5,12)\n",
        "b = np.arange(42)\n",
        "y = b.reshape(3,7,2)\n",
        "y"
      ],
      "execution_count": null,
      "outputs": [
        {
          "output_type": "execute_result",
          "data": {
            "text/plain": [
              "array([[[ 0,  1],\n",
              "        [ 2,  3],\n",
              "        [ 4,  5],\n",
              "        [ 6,  7],\n",
              "        [ 8,  9],\n",
              "        [10, 11],\n",
              "        [12, 13]],\n",
              "\n",
              "       [[14, 15],\n",
              "        [16, 17],\n",
              "        [18, 19],\n",
              "        [20, 21],\n",
              "        [22, 23],\n",
              "        [24, 25],\n",
              "        [26, 27]],\n",
              "\n",
              "       [[28, 29],\n",
              "        [30, 31],\n",
              "        [32, 33],\n",
              "        [34, 35],\n",
              "        [36, 37],\n",
              "        [38, 39],\n",
              "        [40, 41]]])"
            ]
          },
          "metadata": {
            "tags": []
          },
          "execution_count": 58
        }
      ]
    },
    {
      "cell_type": "code",
      "metadata": {
        "colab": {
          "base_uri": "https://localhost:8080/",
          "height": 265
        },
        "id": "Ry9RAm6Gd5B-",
        "outputId": "5baea897-4cde-4c00-e5dd-aa6f702c2de1"
      },
      "source": [
        "#1-2\n",
        "import gzip\n",
        "import matplotlib.pyplot as plt\n",
        "import numpy as np\n",
        "\n",
        "f = gzip.open('train-images-idx3-ubyte.gz','r')\n",
        "\n",
        "images_size = 28\n",
        "images_number = 60000\n",
        "# retire les 16 premier octets du buffer car on veut juste les images.\n",
        "f.read(16)\n",
        "buf = f.read()\n",
        "# frombuffer -> prend un buffer le transforme en array 1D et indique le type de données. || astype -> copie un array et le cast dans le type voulu. \n",
        "array = np.frombuffer(buf, dtype=np.uint8).astype(np.float32)\n",
        "# transforme l'array 1D en un array ayant comme nouvelle dimensions celle sindiqué (arg 1 -> nbr ligne, arg n -> nbr colonne).\n",
        "images_array = array.reshape(images_number, images_size, images_size)\n",
        "# asarray -> convertis l'entré en array. || squeeze -> enlève les parenthèses inutile en ramenant un array de n-D avec une valeur encapsulé plusieurs en 1-D.\n",
        "image1 = images_array[0]\n",
        "plt.imshow(image1)\n",
        "plt.show()"
      ],
      "execution_count": 10,
      "outputs": [
        {
          "output_type": "display_data",
          "data": {
            "image/png": "[encoded data removed]",
            "text/plain": [
              "<Figure size 432x288 with 1 Axes>"
            ]
          },
          "metadata": {
            "tags": [],
            "needs_background": "light"
          }
        }
      ]
    },
    {
      "cell_type": "code",
      "metadata": {
        "id": "bMxwmo_x2Hnh",
        "colab": {
          "base_uri": "https://localhost:8080/"
        },
        "outputId": "c0d1f25f-b89c-4c38-9896-77272aa8d782"
      },
      "source": [
        "#3\n",
        "import pandas as pd\n",
        "\n",
        "f = gzip.open('train-labels-idx1-ubyte.gz','r')\n",
        "\n",
        "f.read(8)\n",
        "buf = f.read(images_number)\n",
        "number_array = np.frombuffer(buf, dtype=np.uint8).astype(np.int8)\n",
        "serie_number = pd.DataFrame({'classes':number_array})\n",
        "classes_list = [len(serie_number.loc[lambda x: x['classes'] == classes, :]) for classes in range(10)]\n",
        "\n",
        "for e in ['classe {} : {}'.format(index, element) for index, element in enumerate(classes_list, 0)]:\n",
        "  print(e)\n",
        "print('sum : ', sum(classes_list))"
      ],
      "execution_count": 67,
      "outputs": [
        {
          "output_type": "stream",
          "text": [
            "classe 0 : 5923\n",
            "classe 1 : 6742\n",
            "classe 2 : 5958\n",
            "classe 3 : 6131\n",
            "classe 4 : 5842\n",
            "classe 5 : 5421\n",
            "classe 6 : 5918\n",
            "classe 7 : 6265\n",
            "classe 8 : 5851\n",
            "classe 9 : 5949\n",
            "sum :  60000\n"
          ],
          "name": "stdout"
        }
      ]
    },
    {
      "cell_type": "code",
      "metadata": {
        "id": "8LPVgDXeGMz5"
      },
      "source": [
        "#4\n",
        "\n",
        "\n"
      ],
      "execution_count": null,
      "outputs": []
    }
  ]
}