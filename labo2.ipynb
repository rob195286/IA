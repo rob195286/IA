{
  "nbformat": 4,
  "nbformat_minor": 0,
  "metadata": {
    "colab": {
      "name": "labo2.ipynb",
      "provenance": [],
      "collapsed_sections": [],
      "toc_visible": true,
      "authorship_tag": "ABX9TyPWtz0VXMz05DgpBFhV2+Vd",
      "include_colab_link": true
    },
    "kernelspec": {
      "display_name": "Python 3",
      "name": "python3"
    },
    "language_info": {
      "name": "python"
    }
  },
  "cells": [
    {
      "cell_type": "markdown",
      "metadata": {
        "id": "view-in-github",
        "colab_type": "text"
      },
      "source": [
        "<a href=\"https://colab.research.google.com/github/rob195286/IA/blob/main/labo2.ipynb\" target=\"_parent\"><img src=\"https://colab.research.google.com/assets/colab-badge.svg\" alt=\"Open In Colab\"/></a>"
      ]
    },
    {
      "cell_type": "code",
      "metadata": {
        "colab": {
          "base_uri": "https://localhost:8080/",
          "height": 265
        },
        "id": "Ry9RAm6Gd5B-",
        "outputId": "61a64728-45d9-48d9-b001-843cf37880cc"
      },
      "source": [
        "#1-2\n",
        "import gzip\n",
        "import matplotlib.pyplot as plt\n",
        "import numpy as np\n",
        "\n",
        "f = gzip.open('train-images-idx3-ubyte.gz','r')\n",
        "\n",
        "images_size = 28\n",
        "images_number = 60000\n",
        "# retire les 16 premier octets du buffer car on veut juste les images.\n",
        "f.read(16)\n",
        "buf = f.read()\n",
        "# frombuffer -> prend un buffer le transforme en array 1D et indique le type de données. || astype -> copie un array et le cast dans le type voulu. \n",
        "array = np.frombuffer(buf, dtype=np.uint8).astype(np.float32)\n",
        "# transforme l'array 1D en un array ayant comme nouvelle dimensions celle sindiqué (arg 1 -> nbr ligne, arg n -> nbr colonne).\n",
        "images_array = array.reshape(images_number, images_size, images_size)\n",
        "# asarray -> convertis l'entré en array. || squeeze -> enlève les parenthèses inutile en ramenant un array de n-D avec une valeur encapsulé plusieurs en 1-D.\n",
        "image1 = images_array[0]\n",
        "plt.imshow(image1)\n",
        "plt.show()"
      ],
      "execution_count": 19,
      "outputs": [
        {
          "output_type": "display_data",
          "data": {
            "image/png": "[encoded data removed]",
            "text/plain": [
              "<Figure size 432x288 with 1 Axes>"
            ]
          },
          "metadata": {
            "tags": [],
            "needs_background": "light"
          }
        }
      ]
    },
    {
      "cell_type": "code",
      "metadata": {
        "colab": {
          "base_uri": "https://localhost:8080/"
        },
        "id": "bMxwmo_x2Hnh",
        "outputId": "05f3b543-a1e0-43ed-dba4-4179653fecb4"
      },
      "source": [
        "#3\n",
        "import pandas as pd\n",
        "\n",
        "f = gzip.open('train-labels-idx1-ubyte.gz','r')\n",
        "\n",
        "f.read(8)\n",
        "buf = f.read(images_number)\n",
        "target_array = np.frombuffer(buf, dtype=np.uint8).astype(np.int8)\n",
        "df_number = pd.DataFrame({'classes':target_array})\n",
        "classes_list = [len(df_number.loc[lambda x: x['classes'] == classes, :]) for classes in range(10)]\n",
        "\n",
        "for index, element in enumerate(classes_list, 0):\n",
        "  print('classe {} : {}'.format(index, element))\n",
        "print('sum : ', sum(classes_list))"
      ],
      "execution_count": 101,
      "outputs": [
        {
          "output_type": "stream",
          "text": [
            "classe 0 : 5923\n",
            "classe 1 : 6742\n",
            "classe 2 : 5958\n",
            "classe 3 : 6131\n",
            "classe 4 : 5842\n",
            "classe 5 : 5421\n",
            "classe 6 : 5918\n",
            "classe 7 : 6265\n",
            "classe 8 : 5851\n",
            "classe 9 : 5949\n",
            "sum :  60000\n"
          ],
          "name": "stdout"
        }
      ]
    },
    {
      "cell_type": "code",
      "metadata": {
        "id": "8LPVgDXeGMz5"
      },
      "source": [
        "#4\n",
        "from sklearn import model_selection, svm\n",
        "\n",
        "train_data, test_data = model_selection.train_test_split(images_array, test_size = 0.1, train_size = 0.9, shuffle=False)"
      ],
      "execution_count": 21,
      "outputs": []
    },
    {
      "cell_type": "code",
      "metadata": {
        "colab": {
          "base_uri": "https://localhost:8080/"
        },
        "id": "6GR1K8goT5X9",
        "outputId": "90d627c5-4a2c-4480-8765-7f41bb7551e8"
      },
      "source": [
        "#5\n",
        "# choix de classification supervisé. supervisé -> car l'apprentissage se fait avec les résultats || classification -> car on a des résultats discret.\n",
        "from sklearn.neural_network import MLPClassifier\n",
        "from sklearn.metrics import accuracy_score\n",
        "\n",
        "clf = MLPClassifier(solver='lbfgs', hidden_layer_sizes=(74, 76, 74), max_iter=20, random_state=1)\n",
        "train_data = train_data.reshape(len(train_data), images_size**2)\n",
        "clf.fit(train_data, target_array[:int(60000*0.9)]) \n",
        "# Précision\n",
        "predictions_result = np.asarray([clf.predict(np.asarray([test_data[e]]))[0] for e in range(len(test_data))])\n",
        "print()\n",
        "print('précision : {}'.format(accuracy_score(predictions_result, target_array[int(60000*0.9):])))"
      ],
      "execution_count": 229,
      "outputs": [
        {
          "output_type": "stream",
          "text": [
            "/usr/local/lib/python3.7/dist-packages/sklearn/neural_network/_multilayer_perceptron.py:470: ConvergenceWarning: lbfgs failed to converge (status=1):\n",
            "STOP: TOTAL NO. of ITERATIONS REACHED LIMIT.\n",
            "\n",
            "Increase the number of iterations (max_iter) or scale the data as shown in:\n",
            "    https://scikit-learn.org/stable/modules/preprocessing.html\n",
            "  self.n_iter_ = _check_optimize_result(\"lbfgs\", opt_res, self.max_iter)\n"
          ],
          "name": "stderr"
        },
        {
          "output_type": "stream",
          "text": [
            "\n",
            "précision : 0.8616666666666667\n"
          ],
          "name": "stdout"
        }
      ]
    },
    {
      "cell_type": "code",
      "metadata": {
        "colab": {
          "base_uri": "https://localhost:8080/",
          "height": 282
        },
        "id": "Sx2-thmuNtP8",
        "outputId": "b26a925f-89d9-4af1-bfe3-28036f52f99d"
      },
      "source": [
        "test=0\n",
        "test_data = test_data.reshape(len(test_data), images_size**2)\n",
        "print('Résultat prédits : {}'.format(clf.predict(np.asarray([test_data[test]]))[0]))\n",
        "plt.imshow(test_data[test].reshape(images_size, images_size))\n",
        "plt.show()"
      ],
      "execution_count": 217,
      "outputs": [
        {
          "output_type": "stream",
          "text": [
            "Résultat prédits : 3\n"
          ],
          "name": "stdout"
        },
        {
          "output_type": "display_data",
          "data": {
            "image/png": "[encoded data removed]",
            "text/plain": [
              "<Figure size 432x288 with 1 Axes>"
            ]
          },
          "metadata": {
            "tags": [],
            "needs_background": "light"
          }
        }
      ]
    }
  ]
}