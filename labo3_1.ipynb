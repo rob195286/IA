{
  "nbformat": 4,
  "nbformat_minor": 0,
  "metadata": {
    "colab": {
      "name": "Untitled2.ipynb",
      "provenance": [],
      "authorship_tag": "ABX9TyOA/SrEVCQdl7DBqhOCDkwl",
      "include_colab_link": true
    },
    "kernelspec": {
      "name": "python3",
      "display_name": "Python 3"
    },
    "language_info": {
      "name": "python"
    }
  },
  "cells": [
    {
      "cell_type": "markdown",
      "metadata": {
        "id": "view-in-github",
        "colab_type": "text"
      },
      "source": [
        "<a href=\"https://colab.research.google.com/github/rob195286/IA/blob/main/labo3_1.ipynb\" target=\"_parent\"><img src=\"https://colab.research.google.com/assets/colab-badge.svg\" alt=\"Open In Colab\"/></a>"
      ]
    },
    {
      "cell_type": "code",
      "metadata": {
        "colab": {
          "base_uri": "https://localhost:8080/",
          "height": 775
        },
        "id": "rVts79s6oUqh",
        "outputId": "7197e461-9375-4393-927e-2d1ddfe945e8"
      },
      "source": [
        "import tensorflow as tf\n",
        "import numpy as np\n",
        "import matplotlib.pyplot as plt\n",
        "\n",
        "\n",
        "input_values = np.float32(np.random.rand(100)*2)\n",
        "expected_outputs = np.float32(0.5*input_values + 2 + (np.random.rand(100)*0.1-0.05))\n",
        "\n",
        "class Linear(tf.keras.Model):\n",
        "\tdef __init__(self):\n",
        "\t\tsuper(Linear, self).__init__()\n",
        "\t\tself.m = tf.Variable(1.0, name='m')\n",
        "\t\tself.p = tf.Variable(1.0, name='p')\n",
        "\n",
        "\tdef call(self, x):\n",
        "\t\treturn self.m * x + self.p\n",
        "\n",
        "model = Linear()\n",
        "\n",
        "model.compile(\n",
        "\toptimizer = tf.keras.optimizers.SGD(0.25),\n",
        "\tloss=tf.keras.losses.MeanSquaredError()\n",
        ")\n",
        "model.fit(\n",
        "\tinput_values,\n",
        "\texpected_outputs,\n",
        "\tbatch_size = 10,\n",
        "\tepochs = 15\n",
        ")\n",
        "# plot values evolution during the training\n",
        "plt.scatter(input_values, expected_outputs, label='data')\n",
        "plt.plot([0, 2], [model.p, model.m*2 + model.p])\n",
        "plt.show()"
      ],
      "execution_count": 5,
      "outputs": [
        {
          "output_type": "stream",
          "text": [
            "Epoch 1/15\n",
            "10/10 [==============================] - 0s 1ms/step - loss: 0.1707\n",
            "Epoch 2/15\n",
            "10/10 [==============================] - 0s 1ms/step - loss: 0.0306\n",
            "Epoch 3/15\n",
            "10/10 [==============================] - 0s 1ms/step - loss: 0.0068\n",
            "Epoch 4/15\n",
            "10/10 [==============================] - 0s 1ms/step - loss: 0.0021\n",
            "Epoch 5/15\n",
            "10/10 [==============================] - 0s 1ms/step - loss: 0.0013\n",
            "Epoch 6/15\n",
            "10/10 [==============================] - 0s 1ms/step - loss: 0.0012\n",
            "Epoch 7/15\n",
            "10/10 [==============================] - 0s 1ms/step - loss: 0.0011\n",
            "Epoch 8/15\n",
            "10/10 [==============================] - 0s 1ms/step - loss: 0.0013\n",
            "Epoch 9/15\n",
            "10/10 [==============================] - 0s 1ms/step - loss: 9.1989e-04\n",
            "Epoch 10/15\n",
            "10/10 [==============================] - 0s 1ms/step - loss: 9.3664e-04\n",
            "Epoch 11/15\n",
            "10/10 [==============================] - 0s 1ms/step - loss: 0.0011\n",
            "Epoch 12/15\n",
            "10/10 [==============================] - 0s 1ms/step - loss: 0.0010\n",
            "Epoch 13/15\n",
            "10/10 [==============================] - 0s 1ms/step - loss: 0.0012\n",
            "Epoch 14/15\n",
            "10/10 [==============================] - 0s 2ms/step - loss: 0.0011\n",
            "Epoch 15/15\n",
            "10/10 [==============================] - 0s 2ms/step - loss: 9.8618e-04\n"
          ],
          "name": "stdout"
        },
        {
          "output_type": "display_data",
          "data": {
            "image/png": "[encoded data removed]",
            "text/plain": [
              "<Figure size 432x288 with 1 Axes>"
            ]
          },
          "metadata": {
            "tags": [],
            "needs_background": "light"
          }
        }
      ]
    }
  ]
}